{
 "cells": [
  {
   "cell_type": "code",
   "execution_count": null,
   "id": "1ef8c25e-dba2-4fa6-9e7d-2396b872ed5c",
   "metadata": {},
   "outputs": [
    {
     "name": "stderr",
     "output_type": "stream",
     "text": [
      "2024-09-02 21:24:09.742 Python[1299:12399] WARNING: Secure coding is not enabled for restorable state! Enable secure coding by implementing NSApplicationDelegate.applicationSupportsSecureRestorableState: and returning YES.\n"
     ]
    }
   ],
   "source": [
    "import cv2\n",
    "\n",
    "FILENAME = 'tmp/edificios.jpeg'\n",
    "\n",
    "# Cargar de imagen\n",
    "image = cv2.imread(FILENAME)\n",
    "\n",
    "# Mostrar imagen original\n",
    "cv2.imshow('Imagen original', image)\n",
    "\n",
    "# aplicar detector de bordes\n",
    "image_with_borders = cv2.Canny(image, 100, 200)\n",
    "cv2.imshow('Imagen with borders', image_with_borders)\n",
    "\n",
    "# DEstruir ventanas abiertas\n",
    "cv2.waitKey(0)\n",
    "cv2.destroyAllWindows()"
   ]
  },
  {
   "cell_type": "code",
   "execution_count": null,
   "id": "68a9af80-0835-457d-b9e9-7bfdd0efa9a0",
   "metadata": {},
   "outputs": [],
   "source": []
  }
 ],
 "metadata": {
  "kernelspec": {
   "display_name": "Python 3 (ipykernel)",
   "language": "python",
   "name": "python3"
  },
  "language_info": {
   "codemirror_mode": {
    "name": "ipython",
    "version": 3
   },
   "file_extension": ".py",
   "mimetype": "text/x-python",
   "name": "python",
   "nbconvert_exporter": "python",
   "pygments_lexer": "ipython3",
   "version": "3.12.4"
  }
 },
 "nbformat": 4,
 "nbformat_minor": 5
}
