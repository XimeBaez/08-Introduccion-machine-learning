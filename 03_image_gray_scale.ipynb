{
 "cells": [
  {
   "cell_type": "code",
   "execution_count": 1,
   "id": "136ad75c-e8ae-4ba2-b849-20035786853d",
   "metadata": {},
   "outputs": [],
   "source": [
    "import cv2"
   ]
  },
  {
   "cell_type": "code",
   "execution_count": null,
   "id": "9d2c5e88-fc08-4576-9445-169283583c33",
   "metadata": {},
   "outputs": [
    {
     "name": "stderr",
     "output_type": "stream",
     "text": [
      "2024-09-02 21:10:51.457 Python[18172:5810104] WARNING: Secure coding is not enabled for restorable state! Enable secure coding by implementing NSApplicationDelegate.applicationSupportsSecureRestorableState: and returning YES.\n"
     ]
    }
   ],
   "source": [
    "FILNAME = 'tmp/edificios.jpeg'\n",
    "\n",
    "# Cargar de imagen\n",
    "image = cv2.imread(FILNAME)\n",
    "\n",
    "# Mostar imagen original \n",
    "cv2.imshow('Imagen original', image)\n",
    "\n",
    "# Crear una nueva imagen temporal en escale de grises \n",
    "img_gary_scale = cv2.cvtColor(image, cv2.COLOR_BGR2GRAY)\n",
    "\n",
    "# Mostrar nueva imagen en escala de grises \n",
    "cv2.imshow('Imagen en escala de grises', img_gary_scale)\n",
    "\n",
    "# Destruir ventanas abiertas \n",
    "cv2.waitKey(0)\n",
    "cv2.destroyAllWindows()"
   ]
  },
  {
   "cell_type": "code",
   "execution_count": null,
   "id": "dc5407a4-9876-44a2-abf1-8f1c1ca2aa1b",
   "metadata": {},
   "outputs": [],
   "source": []
  }
 ],
 "metadata": {
  "kernelspec": {
   "display_name": "Python 3 (ipykernel)",
   "language": "python",
   "name": "python3"
  },
  "language_info": {
   "codemirror_mode": {
    "name": "ipython",
    "version": 3
   },
   "file_extension": ".py",
   "mimetype": "text/x-python",
   "name": "python",
   "nbconvert_exporter": "python",
   "pygments_lexer": "ipython3",
   "version": "3.12.4"
  }
 },
 "nbformat": 4,
 "nbformat_minor": 5
}
